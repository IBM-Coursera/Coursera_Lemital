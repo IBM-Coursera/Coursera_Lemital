{
 "cells": [
  {
   "cell_type": "code",
   "execution_count": 1,
   "metadata": {},
   "outputs": [],
   "source": [
    "### Phase 1"
   ]
  },
  {
   "cell_type": "code",
   "execution_count": 2,
   "metadata": {},
   "outputs": [
    {
     "name": "stdout",
     "output_type": "stream",
     "text": [
      "Library imported.\n"
     ]
    }
   ],
   "source": [
    "# Wrangling Data\n",
    "import numpy as np\n",
    "\n",
    "import pandas as pd\n",
    "pd.set_option('display.max_columns', None)\n",
    "pd.set_option('display.max_rows', None)\n",
    "\n",
    "#!conda install -c conda-forge geopy --yes\n",
    "#pip install geopy\n",
    "from geopy.geocoders import Nominatim #Convert adress to Long lat\n",
    "\n",
    "import json\n",
    "import requests\n",
    "import urllib.request, json\n",
    "from pandas.io.json import json_normalize\n",
    "\n",
    "#Matplotlib\n",
    "import matplotlib.cm as cm\n",
    "import matplotlib.colors as colors\n",
    "\n",
    "#K-means\n",
    "from sklearn.cluster import KMeans\n",
    "\n",
    "\n",
    "#!conda install -c conda-forge folium=0.5.0 --yes\n",
    "#pip install folium=0.5.0\n",
    "import folium\n",
    "\n",
    "print('Library imported.')"
   ]
  },
  {
   "cell_type": "code",
   "execution_count": null,
   "metadata": {},
   "outputs": [],
   "source": [
    "url_a = (\"https://en.wikipedia.org/wiki/List_of_postal_codes_of_Canada:_M\")\n",
    "# read url_a\n",
    "Demo_data = pd.read_html(url_a, header=0)\n",
    "#Demo_data[0]\n",
    "\n",
    "#delete NaN row\n",
    "myData = Demo_data[0].dropna()\n",
    "myData.sort_values(by = ['Borough'], ascending = True, inplace = True) #Sort my data by Borough\n",
    "myData = myData.reset_index(drop = True)\n",
    "df_1 = myData[['Postal code','Borough']]\n",
    "neigh_columns = myData.Neighborhood.str.split(pat=\"/\" ,expand = False)\n",
    "neigh_columns = neigh_columns.str.join(',')\n",
    "neigh_columns\n",
    "myData = pd.concat([df_1, neigh_columns], axis=1, sort=False)\n",
    "myData"
   ]
  }
 ],
 "metadata": {
  "kernelspec": {
   "display_name": "Python 3",
   "language": "python",
   "name": "python3"
  },
  "language_info": {
   "codemirror_mode": {
    "name": "ipython",
    "version": 3
   },
   "file_extension": ".py",
   "mimetype": "text/x-python",
   "name": "python",
   "nbconvert_exporter": "python",
   "pygments_lexer": "ipython3",
   "version": "3.8.1"
  }
 },
 "nbformat": 4,
 "nbformat_minor": 4
}
